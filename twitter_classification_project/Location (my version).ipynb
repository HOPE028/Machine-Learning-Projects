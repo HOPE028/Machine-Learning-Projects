{
 "cells": [
  {
   "cell_type": "code",
   "execution_count": 24,
   "id": "d5abe719",
   "metadata": {},
   "outputs": [],
   "source": [
    "import pandas as pd\n",
    "\n",
    "from sklearn.model_selection import train_test_split\n",
    "from sklearn.feature_extraction.text import CountVectorizer\n",
    "from sklearn.metrics import accuracy_score\n",
    "from sklearn.metrics import confusion_matrix\n",
    "from sklearn.model_selection import train_test_split\n",
    "from sklearn.naive_bayes import MultinomialNB\n",
    "\n"
   ]
  },
  {
   "cell_type": "code",
   "execution_count": 25,
   "id": "0ef7661d",
   "metadata": {},
   "outputs": [],
   "source": [
    "# Setting up tweets\n",
    "\n",
    "new_york_tweets = pd.read_json(\"new_york.json\", lines=True)\n",
    "london_tweets = pd.read_json(\"london.json\", lines=True)\n",
    "paris_tweets = pd.read_json(\"paris.json\", lines=True)\n",
    "\n",
    "new_york = new_york_tweets['text'].tolist()\n",
    "london = london_tweets['text'].tolist()\n",
    "paris = paris_tweets['text'].tolist()"
   ]
  },
  {
   "cell_type": "code",
   "execution_count": 26,
   "id": "f7732bf4",
   "metadata": {},
   "outputs": [],
   "source": [
    "# Setting up labels and data\n",
    "\n",
    "data = new_york + london + paris\n",
    "labels = [0] * len(new_york) + [1] * len(london) + [2] * len(paris)\n",
    "\n",
    "train_data, test_data, train_labels, test_labels = train_test_split(data, labels, random_state=1, test_size=0.2)\n"
   ]
  },
  {
   "cell_type": "code",
   "execution_count": 27,
   "id": "be0ff419",
   "metadata": {},
   "outputs": [],
   "source": [
    "# Counting em\n",
    "\n",
    "counter = CountVectorizer()\n",
    "counter.fit(train_data)\n",
    "train_count = counter.transform(train_data)\n",
    "test_count = counter.transform(test_data)"
   ]
  },
  {
   "cell_type": "code",
   "execution_count": 31,
   "id": "0896f07b",
   "metadata": {},
   "outputs": [
    {
     "name": "stdout",
     "output_type": "stream",
     "text": [
      "[0 2 1 ... 1 0 1]\n"
     ]
    }
   ],
   "source": [
    "# Fitting them and predicting them\n",
    "\n",
    "classifier = MultinomialNB()\n",
    "classifier.fit(train_count, train_labels)\n",
    "prediction = classifier.predict(test_count)"
   ]
  },
  {
   "cell_type": "code",
   "execution_count": 33,
   "id": "36eff855",
   "metadata": {},
   "outputs": [
    {
     "name": "stdout",
     "output_type": "stream",
     "text": [
      "0.6779324055666004\n"
     ]
    }
   ],
   "source": [
    "# Accuracy \n",
    "\n",
    "print(accuracy_score(prediction, test_labels))"
   ]
  }
 ],
 "metadata": {
  "kernelspec": {
   "display_name": "Python 3 (ipykernel)",
   "language": "python",
   "name": "python3"
  },
  "language_info": {
   "codemirror_mode": {
    "name": "ipython",
    "version": 3
   },
   "file_extension": ".py",
   "mimetype": "text/x-python",
   "name": "python",
   "nbconvert_exporter": "python",
   "pygments_lexer": "ipython3",
   "version": "3.9.13"
  }
 },
 "nbformat": 4,
 "nbformat_minor": 5
}
